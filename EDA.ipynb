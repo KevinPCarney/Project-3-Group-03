{
 "cells": [
  {
   "cell_type": "code",
   "execution_count": 1,
   "id": "aa87b3c3-6907-4be2-ba1c-ba82493641ef",
   "metadata": {},
   "outputs": [],
   "source": [
    "from sqlalchemy import create_engine, text, inspect, func\n",
    "import sqlite3\n",
    "\n",
    "# ORM imports\n",
    "import sqlalchemy\n",
    "from sqlalchemy.ext.automap import automap_base\n",
    "from sqlalchemy import Column, Integer, String, Float, Boolean\n",
    "from sqlalchemy.orm import Session\n",
    "from sqlalchemy.ext.declarative import declarative_base\n",
    "\n",
    "# API\n",
    "import requests\n",
    "import json\n",
    "\n",
    "# Data Science and Visualization\n",
    "import pandas as pd\n",
    "import matplotlib.pyplot as plt\n",
    "import numpy as np\n",
    "import seaborn as sns\n",
    "from scipy import stats\n",
    "import datetime as dt"
   ]
  },
  {
   "cell_type": "markdown",
   "id": "23bc78bf-4a15-4be6-9a75-8abbf6c62c5f",
   "metadata": {},
   "source": [
    "## Automapping the Bases"
   ]
  },
  {
   "cell_type": "code",
   "execution_count": 3,
   "id": "fa664a47-4933-45e3-8190-9f0bc3679f09",
   "metadata": {},
   "outputs": [],
   "source": [
    "# Create engine using the `f1.sqlite` database file\n",
    "engine = create_engine(\"sqlite:///f1.sqlite\")"
   ]
  },
  {
   "cell_type": "code",
   "execution_count": 4,
   "id": "02048ba5-52aa-466e-90e1-261b598b4f12",
   "metadata": {},
   "outputs": [
    {
     "data": {
      "text/plain": [
       "['circuits', 'constructors', 'drivers', 'results', 'races']"
      ]
     },
     "execution_count": 4,
     "metadata": {},
     "output_type": "execute_result"
    }
   ],
   "source": [
    "# Create a base using `automap_base()` for reflection\n",
    "Base = automap_base()\n",
    "\n",
    "# Use the Base class to reflect the tables in the Hawaii Database\n",
    "Base.prepare(autoload_with=engine)\n",
    "\n",
    "# Print all of the classes mapped to the Base\n",
    "Base.classes.keys()"
   ]
  },
  {
   "cell_type": "code",
   "execution_count": 5,
   "id": "1078716d-35bd-4b79-8fb2-cec0a62f7e45",
   "metadata": {},
   "outputs": [],
   "source": [
    "# Save references to the classes\n",
    "Circuits = Base.classes.circuits\n",
    "Constructors = Base.classes.constructors\n",
    "Drivers = Base.classes.drivers\n",
    "Results = Base.classes.results\n",
    "Races = Base.classes.races"
   ]
  },
  {
   "cell_type": "code",
   "execution_count": 6,
   "id": "634dd623-4b58-43d9-9ce9-e34f77b1792d",
   "metadata": {},
   "outputs": [],
   "source": [
    "# Create a session\n",
    "session = Session(engine)"
   ]
  },
  {
   "cell_type": "markdown",
   "id": "eaaa80b4-5396-4441-9d47-fa267fbff7de",
   "metadata": {},
   "source": [
    "## Charts"
   ]
  },
  {
   "cell_type": "code",
   "execution_count": null,
   "id": "55ea00ce-4ef8-4f8c-8c78-ff2f212a1e01",
   "metadata": {},
   "outputs": [],
   "source": []
  },
  {
   "cell_type": "code",
   "execution_count": null,
   "id": "dee06c35-35b0-4c98-a1be-194ba2c1503c",
   "metadata": {},
   "outputs": [],
   "source": []
  },
  {
   "cell_type": "code",
   "execution_count": null,
   "id": "17efd819-612a-4541-b8d8-8e8eb8cd6c8a",
   "metadata": {},
   "outputs": [],
   "source": []
  },
  {
   "cell_type": "code",
   "execution_count": null,
   "id": "f5ed5003-84c0-414c-b9f5-e2dbf146c2d3",
   "metadata": {},
   "outputs": [],
   "source": [
    "# Close session and end engine\n",
    "session.close()\n",
    "engine.dispose()"
   ]
  }
 ],
 "metadata": {
  "kernelspec": {
   "display_name": "Python 3 (ipykernel)",
   "language": "python",
   "name": "python3"
  },
  "language_info": {
   "codemirror_mode": {
    "name": "ipython",
    "version": 3
   },
   "file_extension": ".py",
   "mimetype": "text/x-python",
   "name": "python",
   "nbconvert_exporter": "python",
   "pygments_lexer": "ipython3",
   "version": "3.10.13"
  }
 },
 "nbformat": 4,
 "nbformat_minor": 5
}
